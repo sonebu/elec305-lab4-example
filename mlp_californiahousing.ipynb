{
  "cells": [
    {
      "cell_type": "code",
      "execution_count": 1,
      "id": "0055e0ff-e084-45a0-adb6-3ba9c257cfbd",
      "metadata": {
        "id": "0055e0ff-e084-45a0-adb6-3ba9c257cfbd"
      },
      "outputs": [],
      "source": [
        "from sklearn.datasets import fetch_california_housing\n",
        "from sklearn.model_selection import train_test_split\n",
        "from sklearn.metrics import r2_score\n",
        "\n",
        "import numpy as np\n",
        "\n",
        "import torch\n",
        "import torch.nn as nn\n",
        "import torch.optim as optim"
      ]
    },
    {
      "cell_type": "code",
      "execution_count": 2,
      "id": "11768f64-e419-4401-9ce1-e2e4ff38f5b3",
      "metadata": {
        "id": "11768f64-e419-4401-9ce1-e2e4ff38f5b3"
      },
      "outputs": [],
      "source": [
        "ds = fetch_california_housing()\n",
        "x  = ds.data\n",
        "y  = ds.target\n",
        "x_train, x_test, y_train, y_test = train_test_split(x, y, test_size=0.2, random_state=42)"
      ]
    },
    {
      "cell_type": "code",
      "source": [
        "print(x_train.shape)\n",
        "print(y_train.shape)\n",
        "print(x_test.shape)\n",
        "print(y_test.shape)"
      ],
      "metadata": {
        "colab": {
          "base_uri": "https://localhost:8080/"
        },
        "id": "wJljRG6G-LaN",
        "outputId": "3d7424cc-69eb-44a0-992f-46839bc6af08"
      },
      "id": "wJljRG6G-LaN",
      "execution_count": 3,
      "outputs": [
        {
          "output_type": "stream",
          "name": "stdout",
          "text": [
            "(16512, 8)\n",
            "(16512,)\n",
            "(4128, 8)\n",
            "(4128,)\n"
          ]
        }
      ]
    },
    {
      "cell_type": "code",
      "execution_count": 4,
      "id": "b0414f4b-054f-4402-a14c-53d44043cd05",
      "metadata": {
        "id": "b0414f4b-054f-4402-a14c-53d44043cd05"
      },
      "outputs": [],
      "source": [
        "number_of_training_iters = 201;\n",
        "batch_size = 2000;"
      ]
    },
    {
      "cell_type": "markdown",
      "source": [
        "Normalization of the data points"
      ],
      "metadata": {
        "id": "mC4Cj_1HJ0Xk"
      },
      "id": "mC4Cj_1HJ0Xk"
    },
    {
      "cell_type": "code",
      "source": [
        "def norm(x, mean, std):\n",
        "    return (x - mean) / std\n",
        "\n",
        "mean = x_train.mean(axis=0)\n",
        "std = x_train.std(axis=0)\n",
        "\n",
        "x_train_normalized = norm(x_train, mean, std)\n",
        "x_test_normalized = norm(x_test, mean, std)"
      ],
      "metadata": {
        "id": "109tEoJmJ0H7"
      },
      "id": "109tEoJmJ0H7",
      "execution_count": 5,
      "outputs": []
    },
    {
      "cell_type": "code",
      "execution_count": 6,
      "id": "8b3e9d99-405c-47c2-92e2-8bac71dcdde1",
      "metadata": {
        "id": "8b3e9d99-405c-47c2-92e2-8bac71dcdde1"
      },
      "outputs": [],
      "source": [
        "tensor_x_train = torch.tensor(x_train_normalized).float()\n",
        "tensor_y_train = torch.tensor(y_train).view(-1, 1).float() # .view(-1, 1) is just to get a 1 on that second shape axis to not confuse torch\n",
        "tensor_x_test = torch.tensor(x_test_normalized).float()\n",
        "tensor_y_test = torch.tensor(y_test).view(-1, 1).float() # .view(-1, 1) is just to get a 1 on that second shape axis to not confuse torch\n",
        "\n",
        "datasets = torch.utils.data.TensorDataset(tensor_x_train, tensor_y_train)\n",
        "train_iter = torch.utils.data.DataLoader(datasets, batch_size=batch_size, shuffle=True)\n",
        "\n",
        "datasets = torch.utils.data.TensorDataset(tensor_x_test, tensor_y_test)\n",
        "test_iter = torch.utils.data.DataLoader(datasets, batch_size=y_test.shape[0], shuffle=False)"
      ]
    },
    {
      "cell_type": "code",
      "execution_count": 7,
      "id": "31a6383c-92b1-489e-92e8-32bdbb8c0e62",
      "metadata": {
        "id": "31a6383c-92b1-489e-92e8-32bdbb8c0e62"
      },
      "outputs": [],
      "source": [
        "class mdl(nn.Module):\n",
        "    def __init__(self):\n",
        "        super(mdl, self).__init__()\n",
        "        self.input_layer    = nn.Linear(8, 16)\n",
        "        self.hidden_layer1  = nn.Linear(16, 32)\n",
        "        self.hidden_layer2  = nn.Linear(32, 20)\n",
        "        self.output_layer   = nn.Linear(20, 1)\n",
        "        self.activation_fcn = nn.ReLU()\n",
        "    def forward(self, x):\n",
        "        x = self.activation_fcn(self.input_layer(x))\n",
        "        x = self.activation_fcn(self.hidden_layer1(x))\n",
        "        x = self.activation_fcn(self.hidden_layer2(x))\n",
        "        x = self.output_layer(x)\n",
        "        return x"
      ]
    },
    {
      "cell_type": "code",
      "execution_count": 8,
      "id": "f97201f0-55c9-4bba-8eea-50364d835a88",
      "metadata": {
        "id": "f97201f0-55c9-4bba-8eea-50364d835a88"
      },
      "outputs": [],
      "source": [
        "model = mdl()\n",
        "model.train()\n",
        "criterion = nn.MSELoss(reduction='sum')\n",
        "optimizer = optim.Adam(model.parameters(), lr=1e-3)"
      ]
    },
    {
      "cell_type": "code",
      "execution_count": 9,
      "id": "a3262e3b-f3dd-4565-b18e-3abcc6857950",
      "metadata": {
        "colab": {
          "base_uri": "https://localhost:8080/"
        },
        "id": "a3262e3b-f3dd-4565-b18e-3abcc6857950",
        "outputId": "d3ef3444-a504-4f61-851b-6fabfcf8d89c"
      },
      "outputs": [
        {
          "output_type": "stream",
          "name": "stdout",
          "text": [
            "Epoch [1]/[201] running accumulative average loss across all batches: 5.59945\n",
            "Epoch [21]/[201] running accumulative average loss across all batches: 0.58815\n",
            "Epoch [41]/[201] running accumulative average loss across all batches: 0.41785\n",
            "Epoch [61]/[201] running accumulative average loss across all batches: 0.37363\n",
            "Epoch [81]/[201] running accumulative average loss across all batches: 0.35246\n",
            "Epoch [101]/[201] running accumulative average loss across all batches: 0.33693\n",
            "Epoch [121]/[201] running accumulative average loss across all batches: 0.32672\n",
            "Epoch [141]/[201] running accumulative average loss across all batches: 0.31923\n",
            "Epoch [161]/[201] running accumulative average loss across all batches: 0.31277\n",
            "Epoch [181]/[201] running accumulative average loss across all batches: 0.30822\n",
            "Epoch [201]/[201] running accumulative average loss across all batches: 0.30201\n"
          ]
        }
      ],
      "source": [
        "for i in range(number_of_training_iters):\n",
        "    running_loss = 0.0\n",
        "    running_size = 0.0\n",
        "    for inputs, labels in train_iter:\n",
        "        optimizer.zero_grad()\n",
        "        outputs = model(inputs)\n",
        "        loss = criterion(outputs, labels)\n",
        "        loss.backward()\n",
        "        optimizer.step()\n",
        "        running_size += inputs.shape[0]\n",
        "        running_loss += loss.item()\n",
        "    if i % 20 == 0:\n",
        "        print('Epoch [%d]/[%d] running accumulative average loss across all batches: %.5f' %\n",
        "              (i + 1, number_of_training_iters, running_loss / running_size))"
      ]
    },
    {
      "cell_type": "code",
      "source": [
        "for inputs, labels in test_iter:\n",
        "    outputs = model(inputs)\n",
        "    loss = criterion(outputs, labels)\n",
        "import matplotlib.pyplot as plt\n",
        "plt.plot(labels)\n",
        "plt.plot(outputs.detach().numpy())"
      ],
      "metadata": {
        "id": "y1-61bb0_9yR",
        "colab": {
          "base_uri": "https://localhost:8080/",
          "height": 447
        },
        "outputId": "910f82c9-8a2d-4a72-9f18-b23936410942"
      },
      "id": "y1-61bb0_9yR",
      "execution_count": 10,
      "outputs": [
        {
          "output_type": "execute_result",
          "data": {
            "text/plain": [
              "[<matplotlib.lines.Line2D at 0x7ca7ac6ebeb0>]"
            ]
          },
          "metadata": {},
          "execution_count": 10
        },
        {
          "output_type": "display_data",
          "data": {
            "text/plain": [
              "<Figure size 640x480 with 1 Axes>"
            ],
            "image/png": "[encoded data removed]"
          },
          "metadata": {}
        }
      ]
    },
    {
      "cell_type": "code",
      "source": [
        "print(model.input_layer.weight.shape)"
      ],
      "metadata": {
        "id": "bprActrJIroK",
        "colab": {
          "base_uri": "https://localhost:8080/"
        },
        "outputId": "e1b4f683-7ec3-4908-907d-5bd04066c8ea"
      },
      "id": "bprActrJIroK",
      "execution_count": 11,
      "outputs": [
        {
          "output_type": "stream",
          "name": "stdout",
          "text": [
            "torch.Size([16, 8])\n"
          ]
        }
      ]
    },
    {
      "cell_type": "code",
      "source": [
        "with np.printoptions(precision=4, suppress=True, linewidth=400):\n",
        "    print(model.input_layer.weight.detach().numpy())"
      ],
      "metadata": {
        "colab": {
          "base_uri": "https://localhost:8080/"
        },
        "id": "0NYVVnIqK9_W",
        "outputId": "d70d24fd-3a19-4870-d3e9-dad2ba531bd6"
      },
      "id": "0NYVVnIqK9_W",
      "execution_count": 12,
      "outputs": [
        {
          "output_type": "stream",
          "name": "stdout",
          "text": [
            "[[ 0.0148 -0.0087 -0.2022  0.1607  0.0767 -1.6657 -0.0885 -0.047 ]\n",
            " [ 0.0193 -0.037   0.0508 -0.1403 -0.1172  0.0313 -0.356  -0.4544]\n",
            " [ 0.2891 -0.2703 -0.0437  0.348   0.1369 -0.0165  0.0584 -0.0168]\n",
            " [ 0.3201 -0.0398  0.0192 -0.1022  0.0551  0.1529 -0.6598  0.358 ]\n",
            " [-0.0135  0.2973 -0.1884  0.0407  0.0476  0.0023 -0.2346  0.005 ]\n",
            " [-0.0632  0.0668 -0.4219  0.2819  0.1601  0.8233 -0.1062 -0.0828]\n",
            " [ 0.4178 -0.3416  0.4535 -0.1857  0.0011  0.1979 -0.3868  0.1148]\n",
            " [-0.0239  0.0316 -0.0609  0.0528  0.0611  0.0635 -0.2003  0.5565]\n",
            " [-0.1182 -0.4197 -0.4447 -0.1994 -0.0014 -0.3713 -0.2574 -0.2088]\n",
            " [-0.3759  0.1136  0.1395  0.065  -0.2157  0.1052  0.0771  0.2912]\n",
            " [ 0.3723  0.1233 -0.3353 -0.2324 -0.1639  0.3308  0.0744  0.2428]\n",
            " [ 0.2244  0.124   0.1311  0.0299  0.169  -1.0678 -0.3305 -0.3277]\n",
            " [-0.0403 -0.0135 -0.0907 -0.0339 -0.1073 -0.6806 -0.3054  0.316 ]\n",
            " [ 0.0613 -0.2638 -0.0593 -0.3561 -0.0317  0.0947 -0.2902 -0.2657]\n",
            " [ 0.3702  0.1553  0.3393 -0.0107 -0.1137 -0.8234 -0.1873  0.2638]\n",
            " [ 0.3146  0.0928 -0.4542  0.2821  0.0324 -0.7212 -0.2035 -0.2464]]\n"
          ]
        }
      ]
    },
    {
      "cell_type": "code",
      "source": [
        "print(model.input_layer.bias.shape)"
      ],
      "metadata": {
        "colab": {
          "base_uri": "https://localhost:8080/"
        },
        "id": "R1ZRYBtR5WMQ",
        "outputId": "151c4202-fe8f-49c8-e1a4-993f4ac85bbd"
      },
      "id": "R1ZRYBtR5WMQ",
      "execution_count": 13,
      "outputs": [
        {
          "output_type": "stream",
          "name": "stdout",
          "text": [
            "torch.Size([16])\n"
          ]
        }
      ]
    },
    {
      "cell_type": "code",
      "source": [
        "with np.printoptions(precision=4, suppress=True, linewidth=400):\n",
        "    print(model.input_layer.bias.detach().numpy())"
      ],
      "metadata": {
        "colab": {
          "base_uri": "https://localhost:8080/"
        },
        "id": "Um3OTgGwLETQ",
        "outputId": "66f1c440-5fd7-4114-b511-e2b029c2277d"
      },
      "id": "Um3OTgGwLETQ",
      "execution_count": 14,
      "outputs": [
        {
          "output_type": "stream",
          "name": "stdout",
          "text": [
            "[ 0.0105  0.4207 -0.006   0.2591  0.1875  0.5838  0.0331 -0.4866 -0.286   0.1506 -0.0532  0.2357  0.0392  0.2913 -0.1472  0.1521]\n"
          ]
        }
      ]
    },
    {
      "cell_type": "code",
      "source": [
        "print(model.hidden_layer1.weight.shape)"
      ],
      "metadata": {
        "colab": {
          "base_uri": "https://localhost:8080/"
        },
        "id": "mFZT1NlILbyx",
        "outputId": "ee89a188-e8c7-4811-e3a2-c7e312f30598"
      },
      "id": "mFZT1NlILbyx",
      "execution_count": 15,
      "outputs": [
        {
          "output_type": "stream",
          "name": "stdout",
          "text": [
            "torch.Size([32, 16])\n"
          ]
        }
      ]
    },
    {
      "cell_type": "code",
      "source": [
        "with np.printoptions(precision=4, suppress=True, linewidth=400):\n",
        "    print(model.hidden_layer1.weight.detach().numpy())"
      ],
      "metadata": {
        "colab": {
          "base_uri": "https://localhost:8080/"
        },
        "id": "wdKAC2KV6U3S",
        "outputId": "1c213044-a11b-4cd7-87c0-e2ff33198912"
      },
      "id": "wdKAC2KV6U3S",
      "execution_count": 16,
      "outputs": [
        {
          "output_type": "stream",
          "name": "stdout",
          "text": [
            "[[ 0.0069 -0.0166  0.1982 -0.0916  0.2745  0.0553  0.2718 -0.2341  0.0587  0.1835 -0.0467  0.2029 -0.1198  0.2337  0.2976  0.0107]\n",
            " [ 0.4912  0.2152  0.0099  0.1178  0.068  -0.1274  0.1845 -0.4481 -0.1747  0.0463 -0.0974 -0.0333  0.3725 -0.0073  0.2782  0.428 ]\n",
            " [ 0.2141 -0.0766  0.1483  0.0921  0.0435  0.2169  0.1753 -0.2602  0.1344 -0.0359 -0.0731  0.3092 -0.045   0.2407 -0.0783  0.0303]\n",
            " [ 0.7683 -0.2562  0.4828 -0.1976 -0.3373  0.2885 -0.1786 -0.0196  0.3208  0.1316  0.2888  0.3193 -0.1758 -0.5671  0.5591  0.4233]\n",
            " [ 0.3288  0.3194 -0.1067 -0.0821  0.0282 -0.1998  0.2555 -0.3043  0.1107 -0.0517 -0.128   0.2167  0.1603  0.2058  0.1767 -0.0629]\n",
            " [-0.3476 -0.0479 -0.4579 -0.341   0.055   0.1282 -0.0577  0.0262 -0.0616  0.0397  0.2081 -0.1891  0.2321 -0.019   0.3255  0.0032]\n",
            " [ 0.3806  0.2628  0.067  -0.1151 -0.0895 -0.4673 -0.3088 -0.0558 -0.2526 -0.0229 -0.2416  0.1623  0.2516  0.1063  0.2098  0.2004]\n",
            " [-0.1739 -0.1463 -0.0296  0.0386  0.3526 -0.1969  0.2704  0.6028  0.1159 -0.094   0.3665  0.2245 -0.2054  0.2308  0.1383  0.0455]\n",
            " [-0.1984  0.0823 -0.0928 -0.0045  0.19   -0.1774 -0.1129  0.0514 -0.2297 -0.2926 -0.0185  0.0916 -0.3941 -0.1733  0.0416  0.3078]\n",
            " [ 0.0847 -0.0434 -0.09    0.2963  0.3391 -0.1497  0.128  -0.1051  0.2833  0.2149  0.0357  0.2631  0.2288 -0.1946 -0.0235  0.0939]\n",
            " [ 0.1973  0.1993 -0.0063  0.1953 -0.0499  0.0592 -0.2043 -0.2717  0.1122 -0.2201 -0.076   0.2171  0.1633  0.2065 -0.0888  0.0769]\n",
            " [ 0.0013 -0.117   0.1337  0.2859  0.078   0.0251 -0.0581 -0.0069 -0.0212 -0.1273  0.2181 -0.0601  0.0373 -0.0348  0.1273  0.2054]\n",
            " [-0.0567  0.2342  0.0111 -0.0675  0.1828  0.2687  0.2671  0.2556  0.0623 -0.1089  0.1554 -0.0448 -0.0748  0.1708 -0.0528  0.0271]\n",
            " [ 0.0021  0.2254  0.2049 -0.0466  0.1201 -0.2176  0.2493  0.0304  0.0517 -0.206   0.1891 -0.0172  0.01   -0.1708  0.1608 -0.0855]\n",
            " [ 0.0811  0.2495  0.1534  0.1018  0.1088  0.2449  0.2845 -0.299   0.2037 -0.2792  0.0893  0.0091  0.271  -0.0459  0.0281  0.238 ]\n",
            " [ 0.2957  0.0565  0.137  -0.1473  0.0008  0.2533  0.055  -0.098  -0.142   0.1152  0.1625  0.2881  0.0455  0.1332  0.1407  0.1198]\n",
            " [-0.2432  0.201   0.1939 -0.0218  0.1916  0.0723  0.2006  0.1061  0.2872  0.1078  0.2288 -0.0551 -0.1174 -0.0798  0.2392 -0.0123]\n",
            " [ 0.4257 -0.0265 -0.3844  0.0897  0.271   0.0856 -0.1328 -0.4557 -0.1616  0.0984 -0.0534 -0.0002  0.1466  0.0008  0.0141  0.0632]\n",
            " [ 0.5764  0.1715 -0.0877  0.037   0.0234 -0.3199  0.0731 -0.0678 -0.0605  0.1635 -0.1797  0.0719 -0.2813 -0.0826  0.0868  0.3014]\n",
            " [ 0.0059 -0.1349  0.2058 -0.1762  0.0433  0.2461  0.0629  0.0614  0.211  -0.1572 -0.0083  0.1177  0.2289  0.2169  0.1212  0.0437]\n",
            " [ 0.0885 -0.0642  0.2383  0.2045 -0.0754 -0.1767 -0.0056  0.4197  0.2554 -0.0488  0.301  -0.1113 -0.0239  0.2162  0.1173  0.0882]\n",
            " [ 0.2682 -0.3014  0.1093 -0.2147 -0.206  -0.0339  0.2189 -0.2653 -0.0714  0.1578 -0.0633  0.193   0.4438 -0.6223  0.0875  0.3006]\n",
            " [ 0.1791  0.1989  0.0388 -0.0641  0.1272 -0.3023 -0.1321  0.111  -0.3577 -0.0775 -0.0226  0.1288 -0.1704 -0.0225  0.2809  0.2492]\n",
            " [ 0.6711  0.1295 -0.1021 -0.0206  0.2331 -0.2493 -0.1154 -0.1087  0.0038 -0.2598 -0.3887  0.3983 -0.0398  0.1369  0.2551  0.152 ]\n",
            " [ 0.8372  0.1634  0.2079  0.0376 -0.18   -0.5312  0.0374 -0.1106 -0.6151  0.0801 -0.2831  0.3544  0.3109 -0.1662  0.0546  0.2599]\n",
            " [ 0.2722 -0.1244  0.1913  0.1061  0.2938  0.0222  0.0962 -0.275  -0.0098  0.1708 -0.0288  0.1051 -0.0726 -0.1433  0.1805  0.2694]\n",
            " [ 0.2104  0.2108 -0.0342  0.1041  0.2031 -0.1104  0.0546 -0.1569 -0.0829 -0.0852  0.1696  0.1184  0.0624  0.1396  0.0161  0.3262]\n",
            " [ 0.1595 -0.0545  0.169   0.1943 -0.0752 -0.0306  0.21   -0.1991 -0.0171 -0.1     0.2223  0.1289  0.0882  0.2079 -0.1413  0.2013]\n",
            " [ 0.3992  0.1107 -0.0031  0.1637  0.0038 -0.0842  0.0317 -0.268  -0.2026 -0.1931  0.11    0.2429  0.1944  0.2759 -0.1369  0.1942]\n",
            " [ 0.2132  0.0573  0.1419 -0.1927  0.231  -0.2019  0.1183 -0.1612 -0.0609  0.1444 -0.1833  0.0076  0.2423  0.1995  0.0093  0.1999]\n",
            " [-0.077   0.3473  0.0036 -0.0805 -0.0691  0.135   0.1181 -0.1458  0.1052 -0.0904 -0.1702  0.0556 -0.1539 -0.0439  0.1732  0.1816]\n",
            " [ 0.5865 -0.1199 -0.3501 -0.1066  0.1061 -0.2334 -0.0449 -0.2675  0.2033 -0.0023 -0.1555  0.4116  0.1345 -0.0066  0.2829  0.4079]]\n"
          ]
        }
      ]
    },
    {
      "cell_type": "markdown",
      "source": [
        "# Analyses on the parameters to get fixed-point implementations"
      ],
      "metadata": {
        "id": "y-HRWj4UMKFz"
      },
      "id": "y-HRWj4UMKFz"
    },
    {
      "cell_type": "code",
      "source": [
        "running_loss = 0.0\n",
        "running_size = 0.0\n",
        "for inputs, labels in train_iter:\n",
        "    outputs = model(inputs)\n",
        "    loss = criterion(outputs, labels)\n",
        "    running_size += inputs.shape[0]\n",
        "    running_loss += loss.item()\n",
        "print('Average Train Loss: %.5f' % (running_loss / running_size))"
      ],
      "metadata": {
        "colab": {
          "base_uri": "https://localhost:8080/"
        },
        "id": "DmjOC2aSNziA",
        "outputId": "bc348dec-f3a2-4020-8781-0afe9bfba099"
      },
      "id": "DmjOC2aSNziA",
      "execution_count": 17,
      "outputs": [
        {
          "output_type": "stream",
          "name": "stdout",
          "text": [
            "Average Train Loss: 0.30180\n"
          ]
        }
      ]
    },
    {
      "cell_type": "code",
      "source": [
        "running_loss = 0.0\n",
        "running_size = 0.0\n",
        "for inputs, labels in test_iter:\n",
        "    outputs = model(inputs)\n",
        "    loss = criterion(outputs, labels)\n",
        "    running_size += inputs.shape[0]\n",
        "    running_loss += loss.item()\n",
        "print('Average Test Loss: %.5f' % (running_loss / running_size))"
      ],
      "metadata": {
        "colab": {
          "base_uri": "https://localhost:8080/"
        },
        "id": "74GWnC76MbDs",
        "outputId": "d7e87cfe-45f2-4875-8158-b7b61388a560"
      },
      "id": "74GWnC76MbDs",
      "execution_count": 18,
      "outputs": [
        {
          "output_type": "stream",
          "name": "stdout",
          "text": [
            "Average Test Loss: 0.31742\n"
          ]
        }
      ]
    },
    {
      "cell_type": "markdown",
      "source": [
        "Seems like the first layer doesn't need a decimal part, let's assign a Q0.7"
      ],
      "metadata": {
        "id": "hVLkw7rON_xH"
      },
      "id": "hVLkw7rON_xH"
    },
    {
      "cell_type": "code",
      "source": [
        "input_layer_weights = model.input_layer.weight.detach().numpy()\n",
        "\n",
        "input_layer_weights = np.round( input_layer_weights * ((2**8)-1) ) / ((2**8)-1)   # now we've quantized them, some values are not available anymore.\n",
        "\n",
        "with np.printoptions(precision=4, suppress=True, linewidth=400):\n",
        "    print(input_layer_weights)"
      ],
      "metadata": {
        "colab": {
          "base_uri": "https://localhost:8080/"
        },
        "id": "okCQZ8I4N-B1",
        "outputId": "43dc60dc-fdc6-45b4-c94f-6af055c5fa7b"
      },
      "id": "okCQZ8I4N-B1",
      "execution_count": 19,
      "outputs": [
        {
          "output_type": "stream",
          "name": "stdout",
          "text": [
            "[[ 0.0157 -0.0078 -0.2039  0.1608  0.0784 -1.6667 -0.0902 -0.0471]\n",
            " [ 0.0196 -0.0353  0.051  -0.1412 -0.1176  0.0314 -0.3569 -0.4549]\n",
            " [ 0.2902 -0.2706 -0.0431  0.349   0.1373 -0.0157  0.0588 -0.0157]\n",
            " [ 0.3216 -0.0392  0.0196 -0.102   0.0549  0.1529 -0.6588  0.3569]\n",
            " [-0.0118  0.298  -0.1882  0.0392  0.0471  0.0039 -0.2353  0.0039]\n",
            " [-0.0627  0.0667 -0.4235  0.2824  0.1608  0.8235 -0.1059 -0.0824]\n",
            " [ 0.4196 -0.3412  0.4549 -0.1843  0.      0.1961 -0.3882  0.1137]\n",
            " [-0.0235  0.0314 -0.0627  0.051   0.0627  0.0627 -0.2     0.5569]\n",
            " [-0.1176 -0.4196 -0.4431 -0.2    -0.     -0.3725 -0.2588 -0.2078]\n",
            " [-0.3765  0.1137  0.1412  0.0667 -0.2157  0.1059  0.0784  0.2902]\n",
            " [ 0.3725  0.1216 -0.3373 -0.2314 -0.1647  0.3294  0.0745  0.2431]\n",
            " [ 0.2235  0.1255  0.1294  0.0314  0.1686 -1.0667 -0.3294 -0.3294]\n",
            " [-0.0392 -0.0118 -0.0902 -0.0353 -0.1059 -0.6824 -0.3059  0.3176]\n",
            " [ 0.0627 -0.2627 -0.0588 -0.3569 -0.0314  0.0941 -0.2902 -0.2667]\n",
            " [ 0.3686  0.1569  0.3412 -0.0118 -0.1137 -0.8235 -0.1882  0.2627]\n",
            " [ 0.3137  0.0941 -0.4549  0.2824  0.0314 -0.7216 -0.2039 -0.2471]]\n"
          ]
        }
      ]
    },
    {
      "cell_type": "markdown",
      "source": [
        "Let's reassign those weights"
      ],
      "metadata": {
        "id": "XXkN-B4oPnLr"
      },
      "id": "XXkN-B4oPnLr"
    },
    {
      "cell_type": "code",
      "source": [
        "model.input_layer.weight = torch.nn.Parameter(torch.Tensor(input_layer_weights))"
      ],
      "metadata": {
        "id": "w_mZ5AniPmdw"
      },
      "id": "w_mZ5AniPmdw",
      "execution_count": 20,
      "outputs": []
    },
    {
      "cell_type": "markdown",
      "source": [
        "let's see the accuracy again"
      ],
      "metadata": {
        "id": "XglKjQvDPeWU"
      },
      "id": "XglKjQvDPeWU"
    },
    {
      "cell_type": "code",
      "source": [
        "running_loss = 0.0\n",
        "running_size = 0.0\n",
        "for inputs, labels in test_iter:\n",
        "    outputs = model(inputs)\n",
        "    loss = criterion(outputs, labels)\n",
        "    running_size += inputs.shape[0]\n",
        "    running_loss += loss.item()\n",
        "print('Average Test Loss: %.5f' % (running_loss / running_size))"
      ],
      "metadata": {
        "colab": {
          "base_uri": "https://localhost:8080/"
        },
        "id": "kjsmmIJ3PkYZ",
        "outputId": "fd7e8133-1b00-4d39-8f45-5ac18781a43f"
      },
      "id": "kjsmmIJ3PkYZ",
      "execution_count": 21,
      "outputs": [
        {
          "output_type": "stream",
          "name": "stdout",
          "text": [
            "Average Test Loss: 0.31733\n"
          ]
        }
      ]
    },
    {
      "cell_type": "markdown",
      "source": [
        "now let's throw out a few more bits to see how the accuracy gets affected, Q0.3"
      ],
      "metadata": {
        "id": "kufD5yc9PsQU"
      },
      "id": "kufD5yc9PsQU"
    },
    {
      "cell_type": "code",
      "source": [
        "input_layer_weights = model.input_layer.weight.detach().numpy()\n",
        "input_layer_weights = np.round( input_layer_weights * ((2**4)-1) ) / ((2**4)-1)\n",
        "with np.printoptions(precision=4, suppress=True, linewidth=400):\n",
        "    print(input_layer_weights)"
      ],
      "metadata": {
        "colab": {
          "base_uri": "https://localhost:8080/"
        },
        "id": "va8nCCD7PPbz",
        "outputId": "2699d93a-346c-4c3e-e189-b13aa53ea078"
      },
      "id": "va8nCCD7PPbz",
      "execution_count": 22,
      "outputs": [
        {
          "output_type": "stream",
          "name": "stdout",
          "text": [
            "[[ 0.     -0.     -0.2     0.1333  0.0667 -1.6667 -0.0667 -0.0667]\n",
            " [ 0.     -0.0667  0.0667 -0.1333 -0.1333  0.     -0.3333 -0.4667]\n",
            " [ 0.2667 -0.2667 -0.0667  0.3333  0.1333 -0.      0.0667 -0.    ]\n",
            " [ 0.3333 -0.0667  0.     -0.1333  0.0667  0.1333 -0.6667  0.3333]\n",
            " [-0.      0.2667 -0.2     0.0667  0.0667  0.     -0.2667  0.    ]\n",
            " [-0.0667  0.0667 -0.4     0.2667  0.1333  0.8    -0.1333 -0.0667]\n",
            " [ 0.4    -0.3333  0.4667 -0.2     0.      0.2    -0.4     0.1333]\n",
            " [-0.      0.     -0.0667  0.0667  0.0667  0.0667 -0.2     0.5333]\n",
            " [-0.1333 -0.4    -0.4667 -0.2    -0.     -0.4    -0.2667 -0.2   ]\n",
            " [-0.4     0.1333  0.1333  0.0667 -0.2     0.1333  0.0667  0.2667]\n",
            " [ 0.4     0.1333 -0.3333 -0.2    -0.1333  0.3333  0.0667  0.2667]\n",
            " [ 0.2     0.1333  0.1333  0.      0.2    -1.0667 -0.3333 -0.3333]\n",
            " [-0.0667 -0.     -0.0667 -0.0667 -0.1333 -0.6667 -0.3333  0.3333]\n",
            " [ 0.0667 -0.2667 -0.0667 -0.3333 -0.      0.0667 -0.2667 -0.2667]\n",
            " [ 0.4     0.1333  0.3333 -0.     -0.1333 -0.8    -0.2     0.2667]\n",
            " [ 0.3333  0.0667 -0.4667  0.2667  0.     -0.7333 -0.2    -0.2667]]\n"
          ]
        }
      ]
    },
    {
      "cell_type": "code",
      "source": [
        "model.input_layer.weight = torch.nn.Parameter(torch.Tensor(input_layer_weights))"
      ],
      "metadata": {
        "id": "MSg0O3ivQKlB"
      },
      "id": "MSg0O3ivQKlB",
      "execution_count": 24,
      "outputs": []
    },
    {
      "cell_type": "code",
      "source": [
        "running_loss = 0.0\n",
        "running_size = 0.0\n",
        "for inputs, labels in test_iter:\n",
        "    outputs = model(inputs)\n",
        "    loss = criterion(outputs, labels)\n",
        "    running_size += inputs.shape[0]\n",
        "    running_loss += loss.item()\n",
        "print('Average Test Loss: %.5f' % (running_loss / running_size))"
      ],
      "metadata": {
        "colab": {
          "base_uri": "https://localhost:8080/"
        },
        "id": "62O2nuiqPPZB",
        "outputId": "56fe6ed3-b9cb-4dc7-d566-466432e8600f"
      },
      "id": "62O2nuiqPPZB",
      "execution_count": 25,
      "outputs": [
        {
          "output_type": "stream",
          "name": "stdout",
          "text": [
            "Average Test Loss: 0.35574\n"
          ]
        }
      ]
    },
    {
      "cell_type": "code",
      "source": [],
      "metadata": {
        "id": "VG-782RRObax"
      },
      "id": "VG-782RRObax",
      "execution_count": null,
      "outputs": []
    }
  ],
  "metadata": {
    "kernelspec": {
      "display_name": "Python 3 (ipykernel)",
      "language": "python",
      "name": "python3"
    },
    "language_info": {
      "codemirror_mode": {
        "name": "ipython",
        "version": 3
      },
      "file_extension": ".py",
      "mimetype": "text/x-python",
      "name": "python",
      "nbconvert_exporter": "python",
      "pygments_lexer": "ipython3",
      "version": "3.10.11"
    },
    "colab": {
      "provenance": []
    }
  },
  "nbformat": 4,
  "nbformat_minor": 5
}